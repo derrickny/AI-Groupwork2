{
 "cells": [
  {
   "cell_type": "code",
   "execution_count": 19,
   "id": "b9e69ad7-d8bb-4edb-8d1a-d6461f1c1769",
   "metadata": {},
   "outputs": [],
   "source": [
    "#importing various libraries we will be using\n",
    "import sklearn\n",
    "import numpy as np #working with arrays. \n",
    "import pandas as pd #data manipulation library that is necessary for every aspect of data analysis or machine learning."
   ]
  },
  {
   "cell_type": "code",
   "execution_count": 20,
   "id": "4cfc9296-655d-43ea-90ca-a970f02a9fea",
   "metadata": {},
   "outputs": [],
   "source": [
    "#load the datset\n",
    "df = pd.DataFrame(pd.read_csv('car_evaluation.csv',names = ['buying', 'maint', 'doors', 'persons', 'lug_boot', 'safety','class']\n",
    "                              ,header = None, index_col = False))\n"
   ]
  },
  {
   "cell_type": "code",
   "execution_count": 21,
   "id": "1612dcec-024b-4ef3-970a-81aa7eb39afd",
   "metadata": {},
   "outputs": [
    {
     "data": {
      "text/plain": [
       "(1728, 7)"
      ]
     },
     "execution_count": 21,
     "metadata": {},
     "output_type": "execute_result"
    }
   ],
   "source": [
    "#check the dataset shape\n",
    "df.shape"
   ]
  },
  {
   "cell_type": "code",
   "execution_count": 22,
   "id": "13c3f030-fd87-4346-bf00-d4ee593126f6",
   "metadata": {},
   "outputs": [
    {
     "data": {
      "text/html": [
       "<div>\n",
       "<style scoped>\n",
       "    .dataframe tbody tr th:only-of-type {\n",
       "        vertical-align: middle;\n",
       "    }\n",
       "\n",
       "    .dataframe tbody tr th {\n",
       "        vertical-align: top;\n",
       "    }\n",
       "\n",
       "    .dataframe thead th {\n",
       "        text-align: right;\n",
       "    }\n",
       "</style>\n",
       "<table border=\"1\" class=\"dataframe\">\n",
       "  <thead>\n",
       "    <tr style=\"text-align: right;\">\n",
       "      <th></th>\n",
       "      <th>buying</th>\n",
       "      <th>maint</th>\n",
       "      <th>doors</th>\n",
       "      <th>persons</th>\n",
       "      <th>lug_boot</th>\n",
       "      <th>safety</th>\n",
       "      <th>class</th>\n",
       "    </tr>\n",
       "  </thead>\n",
       "  <tbody>\n",
       "    <tr>\n",
       "      <th>0</th>\n",
       "      <td>vhigh</td>\n",
       "      <td>vhigh</td>\n",
       "      <td>2</td>\n",
       "      <td>2</td>\n",
       "      <td>small</td>\n",
       "      <td>low</td>\n",
       "      <td>unacc</td>\n",
       "    </tr>\n",
       "    <tr>\n",
       "      <th>1</th>\n",
       "      <td>vhigh</td>\n",
       "      <td>vhigh</td>\n",
       "      <td>2</td>\n",
       "      <td>2</td>\n",
       "      <td>small</td>\n",
       "      <td>med</td>\n",
       "      <td>unacc</td>\n",
       "    </tr>\n",
       "    <tr>\n",
       "      <th>2</th>\n",
       "      <td>vhigh</td>\n",
       "      <td>vhigh</td>\n",
       "      <td>2</td>\n",
       "      <td>2</td>\n",
       "      <td>small</td>\n",
       "      <td>high</td>\n",
       "      <td>unacc</td>\n",
       "    </tr>\n",
       "    <tr>\n",
       "      <th>3</th>\n",
       "      <td>vhigh</td>\n",
       "      <td>vhigh</td>\n",
       "      <td>2</td>\n",
       "      <td>2</td>\n",
       "      <td>med</td>\n",
       "      <td>low</td>\n",
       "      <td>unacc</td>\n",
       "    </tr>\n",
       "    <tr>\n",
       "      <th>4</th>\n",
       "      <td>vhigh</td>\n",
       "      <td>vhigh</td>\n",
       "      <td>2</td>\n",
       "      <td>2</td>\n",
       "      <td>med</td>\n",
       "      <td>med</td>\n",
       "      <td>unacc</td>\n",
       "    </tr>\n",
       "  </tbody>\n",
       "</table>\n",
       "</div>"
      ],
      "text/plain": [
       "  buying  maint doors persons lug_boot safety  class\n",
       "0  vhigh  vhigh     2       2    small    low  unacc\n",
       "1  vhigh  vhigh     2       2    small    med  unacc\n",
       "2  vhigh  vhigh     2       2    small   high  unacc\n",
       "3  vhigh  vhigh     2       2      med    low  unacc\n",
       "4  vhigh  vhigh     2       2      med    med  unacc"
      ]
     },
     "execution_count": 22,
     "metadata": {},
     "output_type": "execute_result"
    }
   ],
   "source": [
    "#view the column lables\n",
    "df.head(5)"
   ]
  },
  {
   "cell_type": "code",
   "execution_count": 23,
   "id": "1c1ac930-8be5-4913-bd2e-b11a4816ee75",
   "metadata": {},
   "outputs": [
    {
     "data": {
      "text/plain": [
       "buying      object\n",
       "maint       object\n",
       "doors       object\n",
       "persons     object\n",
       "lug_boot    object\n",
       "safety      object\n",
       "class       object\n",
       "dtype: object"
      ]
     },
     "execution_count": 23,
     "metadata": {},
     "output_type": "execute_result"
    }
   ],
   "source": [
    "#view the datatypes of the columns \n",
    "df.dtypes"
   ]
  },
  {
   "cell_type": "markdown",
   "id": "bd9f12df-b376-4a54-86f7-9f72ec085845",
   "metadata": {},
   "source": [
    "Since most of the dataset is made up of strings we will use one hot encoding which will enable us to have the columns that are strings to intergers so as to improve the predictions hence we will be carrying out feature engineering"
   ]
  },
  {
   "cell_type": "code",
   "execution_count": 24,
   "id": "992b5020-93d5-4aba-ba51-188f80ab0c51",
   "metadata": {},
   "outputs": [
    {
     "data": {
      "text/plain": [
       "Index(['buying', 'maint', 'doors', 'persons', 'lug_boot', 'safety', 'class'], dtype='object')"
      ]
     },
     "execution_count": 24,
     "metadata": {},
     "output_type": "execute_result"
    }
   ],
   "source": [
    "#viewing columns\n",
    "df.columns "
   ]
  },
  {
   "cell_type": "code",
   "execution_count": 25,
   "id": "7db57a41-fe15-4099-a0fc-0c068b898b9f",
   "metadata": {},
   "outputs": [],
   "source": [
    "input_features = df.columns[:-1]\n",
    "target_feature = df.columns[-1]\n",
    "\n",
    "input_features,target_feature\n",
    "\n",
    "df_inputs = df[input_features].copy(deep = True)\n",
    "df_target = df[target_feature].copy(deep = True)"
   ]
  },
  {
   "cell_type": "code",
   "execution_count": 26,
   "id": "3cc5fbef-9fd9-49d7-8cb6-06a1f485ac26",
   "metadata": {},
   "outputs": [
    {
     "data": {
      "text/plain": [
       "safety\n",
       "high    576\n",
       "low     576\n",
       "med     576\n",
       "dtype: int64"
      ]
     },
     "execution_count": 26,
     "metadata": {},
     "output_type": "execute_result"
    }
   ],
   "source": [
    "#Number of rows belonging to each class\n",
    "df.groupby('safety').size()"
   ]
  },
  {
   "cell_type": "code",
   "execution_count": 27,
   "id": "ae7d70d9-efe3-49f3-bf12-f3545bb4ad7b",
   "metadata": {},
   "outputs": [],
   "source": [
    "# import train_test_split\n",
    "from sklearn.model_selection import train_test_split"
   ]
  },
  {
   "cell_type": "code",
   "execution_count": 28,
   "id": "ca2b01cd-aeee-4177-913d-44ae68cef9f0",
   "metadata": {},
   "outputs": [
    {
     "name": "stdout",
     "output_type": "stream",
     "text": [
      "Train dataset size: (1209, 6)\n",
      "Test dataset size: (519, 6)\n"
     ]
    }
   ],
   "source": [
    "#splitting the dataset into train and testing\n",
    "\n",
    "X_train, X_test, y_train, y_test = train_test_split(df_inputs, df_target, test_size = 0.30, random_state = 42)\n",
    "\n",
    "print('Train dataset size:', X_train.shape)\n",
    "print('Test dataset size:', X_test.shape)"
   ]
  },
  {
   "cell_type": "code",
   "execution_count": 29,
   "id": "2da3c5f1-7268-421b-aa6a-98e275c64f61",
   "metadata": {},
   "outputs": [],
   "source": [
    "# import OneHotEncoder\n",
    "from sklearn.preprocessing import OneHotEncoder"
   ]
  },
  {
   "cell_type": "code",
   "execution_count": 30,
   "id": "53548e6e-a730-4d00-9c8a-8a2a7f37787a",
   "metadata": {},
   "outputs": [
    {
     "data": {
      "text/html": [
       "<div>\n",
       "<style scoped>\n",
       "    .dataframe tbody tr th:only-of-type {\n",
       "        vertical-align: middle;\n",
       "    }\n",
       "\n",
       "    .dataframe tbody tr th {\n",
       "        vertical-align: top;\n",
       "    }\n",
       "\n",
       "    .dataframe thead th {\n",
       "        text-align: right;\n",
       "    }\n",
       "</style>\n",
       "<table border=\"1\" class=\"dataframe\">\n",
       "  <thead>\n",
       "    <tr style=\"text-align: right;\">\n",
       "      <th></th>\n",
       "      <th>buying</th>\n",
       "      <th>maint</th>\n",
       "      <th>doors</th>\n",
       "      <th>persons</th>\n",
       "      <th>lug_boot</th>\n",
       "      <th>safety</th>\n",
       "    </tr>\n",
       "  </thead>\n",
       "  <tbody>\n",
       "    <tr>\n",
       "      <th>1178</th>\n",
       "      <td>med</td>\n",
       "      <td>med</td>\n",
       "      <td>5more</td>\n",
       "      <td>4</td>\n",
       "      <td>big</td>\n",
       "      <td>high</td>\n",
       "    </tr>\n",
       "    <tr>\n",
       "      <th>585</th>\n",
       "      <td>high</td>\n",
       "      <td>high</td>\n",
       "      <td>3</td>\n",
       "      <td>more</td>\n",
       "      <td>small</td>\n",
       "      <td>low</td>\n",
       "    </tr>\n",
       "    <tr>\n",
       "      <th>1552</th>\n",
       "      <td>low</td>\n",
       "      <td>med</td>\n",
       "      <td>3</td>\n",
       "      <td>4</td>\n",
       "      <td>med</td>\n",
       "      <td>med</td>\n",
       "    </tr>\n",
       "    <tr>\n",
       "      <th>1169</th>\n",
       "      <td>med</td>\n",
       "      <td>med</td>\n",
       "      <td>5more</td>\n",
       "      <td>2</td>\n",
       "      <td>big</td>\n",
       "      <td>high</td>\n",
       "    </tr>\n",
       "    <tr>\n",
       "      <th>1033</th>\n",
       "      <td>med</td>\n",
       "      <td>high</td>\n",
       "      <td>4</td>\n",
       "      <td>2</td>\n",
       "      <td>big</td>\n",
       "      <td>med</td>\n",
       "    </tr>\n",
       "  </tbody>\n",
       "</table>\n",
       "</div>"
      ],
      "text/plain": [
       "     buying maint  doors persons lug_boot safety\n",
       "1178    med   med  5more       4      big   high\n",
       "585    high  high      3    more    small    low\n",
       "1552    low   med      3       4      med    med\n",
       "1169    med   med  5more       2      big   high\n",
       "1033    med  high      4       2      big    med"
      ]
     },
     "execution_count": 30,
     "metadata": {},
     "output_type": "execute_result"
    }
   ],
   "source": [
    "#instantiate the OneHotEncoder\n",
    "encoder = OneHotEncoder(sparse = False, handle_unknown = 'ignore')\n",
    "encoder.fit(X_train)\n",
    "X_train.head()"
   ]
  },
  {
   "cell_type": "code",
   "execution_count": 31,
   "id": "656a5586-b26e-4e5c-bc36-fccc09f55a31",
   "metadata": {},
   "outputs": [
    {
     "data": {
      "text/plain": [
       "array(['buying_high', 'buying_low', 'buying_med', 'buying_vhigh',\n",
       "       'maint_high', 'maint_low', 'maint_med', 'maint_vhigh', 'doors_2',\n",
       "       'doors_3', 'doors_4', 'doors_5more', 'persons_2', 'persons_4',\n",
       "       'persons_more', 'lug_boot_big', 'lug_boot_med', 'lug_boot_small',\n",
       "       'safety_high', 'safety_low', 'safety_med'], dtype=object)"
      ]
     },
     "execution_count": 31,
     "metadata": {},
     "output_type": "execute_result"
    }
   ],
   "source": [
    "features_encoded = encoder.get_feature_names_out(X_train.columns)\n",
    "features_encoded"
   ]
  },
  {
   "cell_type": "code",
   "execution_count": 32,
   "id": "eec1f11a-7e16-45bb-ab85-fea014a26352",
   "metadata": {},
   "outputs": [],
   "source": [
    "X_train[features_encoded] = encoder.transform(X_train)\n",
    "X_test[features_encoded]= encoder.transform(X_test)"
   ]
  },
  {
   "cell_type": "code",
   "execution_count": 33,
   "id": "62668635-2a9d-4252-8f3c-78600cbd26b4",
   "metadata": {},
   "outputs": [
    {
     "name": "stdout",
     "output_type": "stream",
     "text": [
      "Train dataset size: (1209, 21)\n",
      "Test dataset size: (519, 21)\n"
     ]
    }
   ],
   "source": [
    "X_train.drop(columns = input_features, axis = 1, inplace = True)\n",
    "X_test.drop(columns = input_features, axis = 1, inplace = True)\n",
    "\n",
    "print('Train dataset size:', X_train.shape)\n",
    "print('Test dataset size:', X_test.shape)"
   ]
  },
  {
   "cell_type": "code",
   "execution_count": 34,
   "id": "fd097466-412f-479e-8df0-9792e18c26d1",
   "metadata": {},
   "outputs": [],
   "source": [
    "#KNN Predicions\n",
    "# Fitting clasifier to the Training set\n",
    "# Loading libraries\n",
    "from sklearn.neighbors import KNeighborsClassifier\n",
    "from sklearn.metrics import confusion_matrix, accuracy_score,plot_confusion_matrix\n",
    "from sklearn.model_selection import cross_val_score\n",
    "\n",
    "# Instantiate learning model (k = 4)\n",
    "classifier = KNeighborsClassifier(n_neighbors=4)\n",
    "\n",
    "# Fitting the model\n",
    "classifier.fit(X_train, y_train)\n",
    "\n",
    "# Predicting the Test set results\n",
    "y_pred = classifier.predict(X_test)"
   ]
  },
  {
   "cell_type": "code",
   "execution_count": 35,
   "id": "7de409ff-1d94-4015-bca5-833bf5fd6fc6",
   "metadata": {},
   "outputs": [
    {
     "data": {
      "text/plain": [
       "array([[ 94,   4,  20,   0],\n",
       "       [ 11,   5,   3,   0],\n",
       "       [ 23,   1, 334,   0],\n",
       "       [ 11,   4,   2,   7]])"
      ]
     },
     "execution_count": 35,
     "metadata": {},
     "output_type": "execute_result"
    }
   ],
   "source": [
    "cm = confusion_matrix(y_test, y_pred)\n",
    "cm"
   ]
  },
  {
   "cell_type": "code",
   "execution_count": 18,
   "id": "e9105fb5-2a4c-4a30-bda8-7703b0b67c8c",
   "metadata": {},
   "outputs": [
    {
     "name": "stdout",
     "output_type": "stream",
     "text": [
      "Accuracy of our model is equal 84.78 %.\n"
     ]
    }
   ],
   "source": [
    "#Calculating Model Accuracy\n",
    "accuracy = accuracy_score(y_test, y_pred)*100\n",
    "print('Accuracy of our model is equal ' + str(round(accuracy, 2)) + ' %.')"
   ]
  }
 ],
 "metadata": {
  "kernelspec": {
   "display_name": "Python 3",
   "language": "python",
   "name": "python3"
  },
  "language_info": {
   "codemirror_mode": {
    "name": "ipython",
    "version": 3
   },
   "file_extension": ".py",
   "mimetype": "text/x-python",
   "name": "python",
   "nbconvert_exporter": "python",
   "pygments_lexer": "ipython3",
   "version": "3.9.12"
  }
 },
 "nbformat": 4,
 "nbformat_minor": 5
}
